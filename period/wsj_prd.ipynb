{
 "cells": [
  {
   "cell_type": "code",
   "execution_count": 1,
   "metadata": {},
   "outputs": [],
   "source": [
    "import os\n",
    "from tree_utils import Tree"
   ]
  },
  {
   "cell_type": "code",
   "execution_count": 2,
   "metadata": {},
   "outputs": [],
   "source": [
    "data_dir = '/Users/xy/data/PennTreebank_full/parsed/prd/wsj'\n",
    "assert os.path.exists(data_dir), 'data_dir not found'"
   ]
  },
  {
   "cell_type": "code",
   "execution_count": 3,
   "metadata": {},
   "outputs": [
    {
     "name": "stdout",
     "output_type": "stream",
     "text": [
      "Found 25 subdirectories in /Users/xy/data/PennTreebank_full/parsed/prd/wsj\n",
      "['00', '01', '02', '03', '04', '05', '06', '07', '08', '09', '10', '11', '12', '13', '14', '15', '16', '17', '18', '19', '20', '21', '22', '23', '24']\n"
     ]
    }
   ],
   "source": [
    "# How many subdirectories\n",
    "sub_dirs = [sd for sd in os.listdir(data_dir) \\\n",
    "            if os.path.isdir(os.path.join(data_dir, sd))]\n",
    "sub_dirs = sorted(sub_dirs)\n",
    "print(f'Found {len(sub_dirs)} subdirectories in {data_dir}')\n",
    "print(sub_dirs)"
   ]
  },
  {
   "cell_type": "code",
   "execution_count": 4,
   "metadata": {},
   "outputs": [
    {
     "name": "stdout",
     "output_type": "stream",
     "text": [
      "Found 2312 .prd files in total\n",
      "Examples: ['/Users/xy/data/PennTreebank_full/parsed/prd/wsj/00/wsj_0042.prd']\n"
     ]
    }
   ],
   "source": [
    "# How many .prd files exist in total\n",
    "prd_files = [os.path.join(data_dir, sd, f) \\\n",
    "             for sd in sub_dirs \\\n",
    "                for f in os.listdir(os.path.join(data_dir, sd)) \\\n",
    "                    if f.endswith('.prd')]\n",
    "print(f'Found {len(prd_files)} .prd files in total')\n",
    "print('Examples:', prd_files[:1])"
   ]
  },
  {
   "cell_type": "code",
   "execution_count": 5,
   "metadata": {},
   "outputs": [
    {
     "name": "stdout",
     "output_type": "stream",
     "text": [
      "Found 6 trees in /Users/xy/data/PennTreebank_full/parsed/prd/wsj/00/wsj_0008.prd\n",
      "Examples:\n",
      "( (S (NP-SBJ The federal government)(VP suspended(NP (NP sales)(PP of(NP U.S. savings bonds)))(SBAR-PRP because(S (NP-SBJ Congress)(VP hasn't(VP lifted(NP (NP the ceiling)(PP-LOC on(NP government debt)))))))).))\n"
     ]
    }
   ],
   "source": [
    "# Work on a .prd example\n",
    "example_prd_file = '/Users/xy/data/PennTreebank_full/parsed/prd/wsj/00/wsj_0008.prd'\n",
    "\n",
    "\n",
    "tree_strings = []\n",
    "with open(example_prd_file) as f:\n",
    "    lp_count, rp_count = 0, 0\n",
    "    tmp_str = ''\n",
    "    for line in f:\n",
    "        line = line.strip()\n",
    "        if not line: continue\n",
    "        lp_count += line.count('(')\n",
    "        rp_count += line.count(')')\n",
    "        if lp_count > rp_count:\n",
    "            tmp_str += line\n",
    "        elif lp_count == rp_count:\n",
    "            tmp_str += line\n",
    "            tree_strings.append(tmp_str)\n",
    "            tmp_str = ''\n",
    "            lp_count, rp_count = 0, 0\n",
    "        else:\n",
    "            raise ValueError('Something wrong with the parentheses')\n",
    "\n",
    "print(f'Found {len(tree_strings)} trees in {example_prd_file}')\n",
    "print('Examples:')\n",
    "print(tree_strings[0])"
   ]
  },
  {
   "cell_type": "code",
   "execution_count": 7,
   "metadata": {},
   "outputs": [
    {
     "name": "stdout",
     "output_type": "stream",
     "text": [
      "(S ('NP-SBJ', ['The federal government'])('VP', ['suspended', ('NP', [('NP', ['sales']), ('PP', ['of', ('NP', ['U.S. savings bonds'])])]), ('SBAR-PRP', ['because', ('S', [('NP-SBJ', ['Congress']), ('VP', [\"hasn't\", ('VP', ['lifted', ('NP', [('NP', ['the ceiling']), ('PP-LOC', ['on', ('NP', ['government debt'])])])])])])])]).)\n",
      "['The federal government', 'suspended', 'sales', 'of', 'U.S. savings bonds', 'because', 'Congress', \"hasn't\", 'lifted', 'the ceiling', 'on', 'government debt', '.']\n",
      "(S ('S-TPC-1', [('SBAR-TMP', ['Until', ('S', [('NP-SBJ', ['Congress']), ('VP', ['acts'])])]), ',', ('NP-SBJ', ['the government']), ('VP', [\"hasn't\", ('NP', ['any authority', ('S', [('NP-SBJ', ['*']), ('VP', ['to', ('VP', ['issue', ('NP', [('NP', ['new debt obligations']), ('PP', ['of', ('NP', ['any kind'])])])])])])])])]),('NP-SBJ', ['the Treasury'])('VP', ['said', ('SBAR', ['0', ('S', ['*T*-1'])])]).)\n",
      "['Until', 'Congress', 'acts', ',', 'the government', \"hasn't\", 'any authority', '*', 'to', 'issue', 'new debt obligations', 'of', 'any kind', ',', 'the Treasury', 'said', '0', '*T*-1', '.']\n"
     ]
    }
   ],
   "source": [
    "tree0 = Tree(tree_strings[0])\n",
    "\n",
    "print(tree0)\n",
    "print(tree0.leaves())\n",
    "\n",
    "tree1 = Tree(tree_strings[1])\n",
    "print(tree1)\n",
    "print(tree1.leaves())"
   ]
  }
 ],
 "metadata": {
  "kernelspec": {
   "display_name": "base",
   "language": "python",
   "name": "python3"
  },
  "language_info": {
   "codemirror_mode": {
    "name": "ipython",
    "version": 3
   },
   "file_extension": ".py",
   "mimetype": "text/x-python",
   "name": "python",
   "nbconvert_exporter": "python",
   "pygments_lexer": "ipython3",
   "version": "3.11.5"
  }
 },
 "nbformat": 4,
 "nbformat_minor": 2
}
