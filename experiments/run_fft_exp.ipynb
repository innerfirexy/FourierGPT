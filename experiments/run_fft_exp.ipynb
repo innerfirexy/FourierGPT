{
 "cells": [
  {
   "cell_type": "code",
   "execution_count": 1,
   "metadata": {},
   "outputs": [],
   "source": [
    "import os\n",
    "import subprocess"
   ]
  },
  {
   "cell_type": "code",
   "execution_count": 14,
   "metadata": {},
   "outputs": [
    {
     "name": "stdout",
     "output_type": "stream",
     "text": [
      "abs path for data: /Users/xy/projects/FourierGPT/data\n",
      "abs path for script: /Users/xy/projects/FourierGPT\n",
      "python /Users/xy/projects/FourierGPT/run_fft.py -i /Users/xy/projects/FourierGPT/data/davinci/pubmed_davinci.original.mistral.nll.txt -o /Users/xy/projects/FourierGPT/data/davinci/pubmed_davinci.original.mistral.nllzs.fftnorm.txt -p zscore --value norm\n",
      "python /Users/xy/projects/FourierGPT/run_fft.py -i /Users/xy/projects/FourierGPT/data/davinci/pubmed_davinci.sampled.mistral.nll.txt -o /Users/xy/projects/FourierGPT/data/davinci/pubmed_davinci.sampled.mistral.nllzs.fftnorm.txt -p zscore --value norm\n",
      "python /Users/xy/projects/FourierGPT/run_fft.py -i /Users/xy/projects/FourierGPT/data/davinci/pubmed_davinci.original.gpt2xl.nll.txt -o /Users/xy/projects/FourierGPT/data/davinci/pubmed_davinci.original.gpt2xl.nllzs.fftnorm.txt -p zscore --value norm\n",
      "python /Users/xy/projects/FourierGPT/run_fft.py -i /Users/xy/projects/FourierGPT/data/davinci/pubmed_davinci.sampled.gpt2xl.nll.txt -o /Users/xy/projects/FourierGPT/data/davinci/pubmed_davinci.sampled.gpt2xl.nllzs.fftnorm.txt -p zscore --value norm\n",
      "python /Users/xy/projects/FourierGPT/run_fft.py -i /Users/xy/projects/FourierGPT/data/davinci/writing_davinci.original.mistral.nll.txt -o /Users/xy/projects/FourierGPT/data/davinci/writing_davinci.original.mistral.nllzs.fftnorm.txt -p zscore --value norm\n",
      "python /Users/xy/projects/FourierGPT/run_fft.py -i /Users/xy/projects/FourierGPT/data/davinci/writing_davinci.sampled.mistral.nll.txt -o /Users/xy/projects/FourierGPT/data/davinci/writing_davinci.sampled.mistral.nllzs.fftnorm.txt -p zscore --value norm\n",
      "python /Users/xy/projects/FourierGPT/run_fft.py -i /Users/xy/projects/FourierGPT/data/davinci/writing_davinci.original.gpt2xl.nll.txt -o /Users/xy/projects/FourierGPT/data/davinci/writing_davinci.original.gpt2xl.nllzs.fftnorm.txt -p zscore --value norm\n",
      "python /Users/xy/projects/FourierGPT/run_fft.py -i /Users/xy/projects/FourierGPT/data/davinci/writing_davinci.sampled.gpt2xl.nll.txt -o /Users/xy/projects/FourierGPT/data/davinci/writing_davinci.sampled.gpt2xl.nllzs.fftnorm.txt -p zscore --value norm\n",
      "python /Users/xy/projects/FourierGPT/run_fft.py -i /Users/xy/projects/FourierGPT/data/davinci/xsum_davinci.original.mistral.nll.txt -o /Users/xy/projects/FourierGPT/data/davinci/xsum_davinci.original.mistral.nllzs.fftnorm.txt -p zscore --value norm\n",
      "python /Users/xy/projects/FourierGPT/run_fft.py -i /Users/xy/projects/FourierGPT/data/davinci/xsum_davinci.sampled.mistral.nll.txt -o /Users/xy/projects/FourierGPT/data/davinci/xsum_davinci.sampled.mistral.nllzs.fftnorm.txt -p zscore --value norm\n",
      "python /Users/xy/projects/FourierGPT/run_fft.py -i /Users/xy/projects/FourierGPT/data/davinci/xsum_davinci.original.gpt2xl.nll.txt -o /Users/xy/projects/FourierGPT/data/davinci/xsum_davinci.original.gpt2xl.nllzs.fftnorm.txt -p zscore --value norm\n",
      "python /Users/xy/projects/FourierGPT/run_fft.py -i /Users/xy/projects/FourierGPT/data/davinci/xsum_davinci.sampled.gpt2xl.nll.txt -o /Users/xy/projects/FourierGPT/data/davinci/xsum_davinci.sampled.gpt2xl.nllzs.fftnorm.txt -p zscore --value norm\n"
     ]
    }
   ],
   "source": [
    "genre_list = ['pubmed', 'writing', 'xsum']\n",
    "# model_list = ['gpt-4', 'gpt-3.5-turbo', 'davinci']\n",
    "model_list = ['davinci']\n",
    "estimator_list = ['mistral', 'llama', 'gpt2xl', 'gpt2lg', 'gpt2md', 'gpt2']\n",
    "source_list = ['original', 'sampled']\n",
    "\n",
    "data_root = os.path.abspath('../data/')\n",
    "script_root = os.path.abspath('../')\n",
    "print(f'abs path for data: {data_root}')\n",
    "print(f'abs path for script: {script_root}')\n",
    "\n",
    "for genre in genre_list:\n",
    "    for model in model_list:\n",
    "        for est_name in estimator_list:\n",
    "            for source in source_list:\n",
    "                if model == 'gpt-3.5-turbo':\n",
    "                    data_dir = os.path.join(data_root, 'gpt-3.5')\n",
    "                else:\n",
    "                    data_dir = os.path.join(data_root, model)\n",
    "                \n",
    "                input_filename = f'{genre}_{model}.{source}.{est_name}.nll.txt'\n",
    "                input_path = os.path.join(data_dir, input_filename)\n",
    "                output_filename = f'{genre}_{model}.{source}.{est_name}.nllzs.fftnorm.txt'\n",
    "                output_path = os.path.join(data_dir, output_filename)\n",
    "                \n",
    "                if os.path.exists(input_path):\n",
    "                    script_path = os.path.join(script_root, 'run_fft.py')\n",
    "                    cmd = ['python', script_path, '-i', input_path, '-o', output_path, '-p', 'zscore', '--value', 'norm']\n",
    "                    print(' '.join(cmd))\n",
    "                    subprocess.run(cmd)"
   ]
  }
 ],
 "metadata": {
  "kernelspec": {
   "display_name": "base",
   "language": "python",
   "name": "python3"
  },
  "language_info": {
   "codemirror_mode": {
    "name": "ipython",
    "version": 3
   },
   "file_extension": ".py",
   "mimetype": "text/x-python",
   "name": "python",
   "nbconvert_exporter": "python",
   "pygments_lexer": "ipython3",
   "version": "3.11.5"
  }
 },
 "nbformat": 4,
 "nbformat_minor": 2
}
