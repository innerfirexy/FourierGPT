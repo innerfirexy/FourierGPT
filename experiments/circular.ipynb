{
 "cells": [
  {
   "cell_type": "code",
   "execution_count": 1,
   "metadata": {},
   "outputs": [],
   "source": [
    "import sys\n",
    "sys.path.append('..')\n",
    "from run_fft import FFTProcessor\n",
    "import numpy as np\n",
    "import pandas as pd"
   ]
  },
  {
   "cell_type": "code",
   "execution_count": 3,
   "metadata": {},
   "outputs": [],
   "source": [
    "# Call ggplot in R to plot\n",
    "%load_ext rpy2.ipython"
   ]
  },
  {
   "cell_type": "markdown",
   "metadata": {},
   "source": [
    "### Circular processing"
   ]
  },
  {
   "cell_type": "code",
   "execution_count": 2,
   "metadata": {},
   "outputs": [],
   "source": [
    "def circular(input: list, n: int = None, include_self: bool = True):\n",
    "    if n is None:\n",
    "        n = len(input) - 1\n",
    "    output = []\n",
    "    if include_self:\n",
    "        output.append(input)\n",
    "    for i in range(n):\n",
    "        out = input[i+1:] + input[:i+1]\n",
    "        output.append(out)\n",
    "    return output"
   ]
  },
  {
   "cell_type": "code",
   "execution_count": 3,
   "metadata": {},
   "outputs": [
    {
     "name": "stdout",
     "output_type": "stream",
     "text": [
      "[[1, 2, 3, 4, 5], [2, 3, 4, 5, 1], [3, 4, 5, 1, 2], [4, 5, 1, 2, 3], [5, 1, 2, 3, 4]]\n",
      "[[2, 3, 4, 5, 1], [3, 4, 5, 1, 2], [4, 5, 1, 2, 3], [5, 1, 2, 3, 4]]\n"
     ]
    }
   ],
   "source": [
    "# Test\n",
    "input = [1, 2, 3, 4, 5]\n",
    "print(circular(input, include_self=True))\n",
    "print(circular(input, include_self=False))"
   ]
  },
  {
   "cell_type": "code",
   "execution_count": 5,
   "metadata": {},
   "outputs": [],
   "source": [
    "fft_processor = FFTProcessor(method='fft', preprocess='logzs', value='norm', require_sid=False)\n",
    "\n",
    "# Pubmed\n",
    "# genre = 'pubmed'\n",
    "# est_name = 'mistral'\n",
    "# nll_orig = fft_processor._read_data(data_file='../data/gpt-4/pubmed_gpt-4.original.gpt2xl.nll.txt')\n",
    "# nll_samp = fft_processor._read_data(data_file='../data/gpt-4/pubmed_gpt-4.sampled.gpt2xl.nll.txt')\n",
    "\n",
    "# nll_orig = fft_processor._read_data(data_file=f'../data/gpt-4/{genre}_gpt-4.original.{est_name}.nll.txt')\n",
    "# nll_samp = fft_processor._read_data(data_file=f'../data/gpt-4/{genre}_gpt-4.sampled.{est_name}.nll.txt')\n",
    "\n",
    "# nll_orig = fft_processor._read_data(data_file='../data/gpt-4/pubmed_Ans_gpt-4.original.gpt2xl.nll.txt')\n",
    "# nll_samp = fft_processor._read_data(data_file='../data/gpt-4/pubmed_Ans_gpt-4.sampled.gpt2xl.nll.txt')\n",
    "\n",
    "# Writing\n",
    "genre = 'writing'\n",
    "est_name = 'mistral'\n",
    "\n",
    "nll_orig = fft_processor._read_data(data_file=f'../data/gpt-4/{genre}_gpt-4.original.{est_name}.nll.txt')\n",
    "nll_samp = fft_processor._read_data(data_file=f'../data/gpt-4/{genre}_gpt-4.sampled.{est_name}.nll.txt')"
   ]
  },
  {
   "cell_type": "code",
   "execution_count": 6,
   "metadata": {},
   "outputs": [
    {
     "name": "stdout",
     "output_type": "stream",
     "text": [
      "(7769099, 3)\n"
     ]
    }
   ],
   "source": [
    "nll_orig_circle = []\n",
    "for nll in nll_orig:\n",
    "    nll_circle = circular(nll)\n",
    "    nll_orig_circle.extend(nll_circle)\n",
    "\n",
    "nll_samp_circle = []\n",
    "for nll in nll_samp:\n",
    "    nll_circle = circular(nll)\n",
    "    nll_samp_circle.extend(nll_circle)\n",
    "\n",
    "# FFT norm\n",
    "df_orig_norm = fft_processor.process(nll_orig_circle)\n",
    "df_orig_norm['type'] = 'Human'\n",
    "df_samp_norm = fft_processor.process(nll_samp_circle)\n",
    "df_samp_norm['type'] = 'Sampled'\n",
    "df_circle_norm = pd.concat([df_orig_norm, df_samp_norm])\n",
    "\n",
    "print(df_circle_norm.shape)"
   ]
  },
  {
   "cell_type": "code",
   "execution_count": 43,
   "metadata": {},
   "outputs": [
    {
     "name": "stdout",
     "output_type": "stream",
     "text": [
      "150\n",
      "475411\n",
      "150\n",
      "507953\n",
      "total: 983364\n"
     ]
    }
   ],
   "source": [
    "# Get full circular data, with sequence id and circular index (1st, 2nd, 3rd, ..., nth)\n",
    "fft_processor.preprocess = 'logzs'\n",
    "fft_processor.value = 'norm'\n",
    "\n",
    "# Original\n",
    "full_circle_orig = []\n",
    "for i, nll in enumerate(nll_orig):\n",
    "    nll_circle = circular(nll)\n",
    "    nll_circle = fft_processor._preprocess(nll_circle)\n",
    "    f, p, sids = fft_processor._fft_batch(nll_circle, require_sid=True)\n",
    "    df = pd.DataFrame({'freq': np.concatenate(f), \n",
    "                       'power': np.concatenate(p), \n",
    "                       'circular_index': np.concatenate(sids)})\n",
    "    df['sid'] = i\n",
    "    full_circle_orig.append(df)\n",
    "print(len(full_circle_orig))\n",
    "total_orig = sum([len(df) for df in full_circle_orig])\n",
    "print(total_orig)\n",
    "\n",
    "# Sampled\n",
    "full_circle_samp = []\n",
    "for i, nll in enumerate(nll_samp):\n",
    "    nll_circle = circular(nll)\n",
    "    nll_circle = fft_processor._preprocess(nll_circle)\n",
    "    f, p, sids = fft_processor._fft_batch(nll_circle, require_sid=True)\n",
    "    df = pd.DataFrame({'freq': np.concatenate(f), \n",
    "                       'power': np.concatenate(p), \n",
    "                       'circular_index': np.concatenate(sids)})\n",
    "    df['sid'] = i\n",
    "    full_circle_samp.append(df)\n",
    "print(len(full_circle_samp))\n",
    "total_samp = sum([len(df) for df in full_circle_samp])\n",
    "print(total_samp)\n",
    "\n",
    "print('total:', total_orig + total_samp)\n",
    "\n",
    "# Save data\n",
    "df_orig = pd.concat(full_circle_orig)\n",
    "df_orig['type'] = 'Human'\n",
    "df_samp = pd.concat(full_circle_samp)\n",
    "df_samp['type'] = 'Sampled'\n",
    "df_circle = pd.concat([df_orig, df_samp])\n",
    "df_circle.to_csv(f'../data/gpt-4/{genre}_gpt-4.{est_name}.nlllogzs.fftnorm.circlefull.txt', index=False)"
   ]
  },
  {
   "cell_type": "code",
   "execution_count": 8,
   "metadata": {},
   "outputs": [],
   "source": [
    "def get_circular_full(input_file: str):\n",
    "    fft_processor = FFTProcessor(method='fft', preprocess='logzs', value='norm', require_sid=False)\n",
    "    nll_raw = fft_processor._read_data(data_file=input_file)\n",
    "    circle_results = []\n",
    "    for i, nll in enumerate(nll_raw):\n",
    "        nll_c = circular(nll)\n",
    "        nll_c = fft_processor._preprocess(nll_c)\n",
    "        f, p, sids = fft_processor._fft_batch(nll_c, require_sid=True)\n",
    "        df = pd.DataFrame({'freq': np.concatenate(f), \n",
    "                           'power': np.concatenate(p), \n",
    "                           'circular_index': np.concatenate(sids)})\n",
    "        df['sid'] = i\n",
    "        circle_results.append(df)\n",
    "    df_circle = pd.concat(circle_results)\n",
    "    return df_circle"
   ]
  },
  {
   "cell_type": "code",
   "execution_count": 27,
   "metadata": {},
   "outputs": [],
   "source": [
    "# Run get_circular_full\n",
    "est_name = 'mistral'\n",
    "\n",
    "# df_circle_writing_orig = get_circular_full('../data/gpt-4/writing_gpt-4.original.mistral.nll.txt')\n",
    "# df_circle_writing_samp = get_circular_full('../data/gpt-4/writing_gpt-4.sampled.mistral.nll.txt')\n",
    "# print(df_circle_writing_orig.shape[0] + df_circle_writing_samp.shape[0])\n",
    "# df_circle_writing_orig['type'] = 'Human'\n",
    "# df_circle_writing_samp['type'] = 'Sampled'\n",
    "# df_circle_writing = pd.concat([df_circle_writing_orig, df_circle_writing_samp])\n",
    "\n",
    "# df_circle_pubmed_orig = get_circular_full('../data/gpt-4/pubmed_gpt-4.original.mistral.nll.txt')\n",
    "# df_circle_pubmed_samp = get_circular_full('../data/gpt-4/pubmed_gpt-4.sampled.mistral.nll.txt')\n",
    "# print(df_circle_pubmed_orig.shape[0] + df_circle_pubmed_samp.shape[0])\n",
    "# df_circle_pubmed_orig['type'] = 'Human'\n",
    "# df_circle_pubmed_samp['type'] = 'Sampled'\n",
    "# df_circle_pubmed = pd.concat([df_circle_pubmed_orig, df_circle_pubmed_samp])\n",
    "\n",
    "# df_circle_xsum_orig = get_circular_full(f'../data/gpt-4/xsum_gpt-4.original.{est_name}.nll.txt')\n",
    "# df_circle_xsum_samp = get_circular_full(f'../data/gpt-4/xsum_gpt-4.sampled.{est_name}.nll.txt')\n",
    "# df_circle_xsum_orig['type'] = 'Human'\n",
    "# df_circle_xsum_samp['type'] = 'Sampled'\n",
    "# df_circle_xsum = pd.concat([df_circle_xsum_orig, df_circle_xsum_samp])\n"
   ]
  },
  {
   "cell_type": "code",
   "execution_count": 28,
   "metadata": {},
   "outputs": [],
   "source": [
    "# Save circular full data\n",
    "# df_circle_pubmed.to_csv('../data/gpt-4/pubmed_gpt-4.mistral.nlllogzs.fftnorm.circlefull.txt', index=False)\n",
    "# df_circle_pubmed.to_hdf('../data/gpt-4/pubmed_gpt-4.mistral.nlllogzs.fftnorm.circlefull.h5', key='df', mode='w')\n",
    "\n",
    "# df_circle_writing.to_csv('../data/gpt-4/writing_gpt-4.mistral.nlllogzs.fftnorm.circlefull.txt', index=False)\n",
    "# df_circle_writing.to_hdf('../data/gpt-4/writing_gpt-4.mistral.nlllogzs.fftnorm.circlefull.h5', key='df', mode='w')\n",
    "\n",
    "# df_circle_xsum.to_csv(f'../data/gpt-4/xsum_gpt-4.{est_name}.nlllogzs.fftnorm.circlefull.txt', index=False)\n",
    "# df_circle_xsum.to_hdf(f'../data/gpt-4/xsum_gpt-4.{est_name}.nlllogzs.fftnorm.circlefull.h5', key='df', mode='w')\n"
   ]
  },
  {
   "cell_type": "code",
   "execution_count": null,
   "metadata": {},
   "outputs": [],
   "source": [
    "%%R -i df_circle_norm\n",
    "require(ggplot2)\n",
    "require(stringr)\n",
    "\n",
    "# genre <- \"pubmed_QA\"\n",
    "genre <- \"writing\"\n",
    "\n",
    "# est_name <- \"gpt2xl\"\n",
    "est_name <- \"mistral\"\n",
    "\n",
    "# p <- ggplot(df_circle_norm, aes(x=freq, y=power, color=type)) + geom_smooth(method='gam') + \n",
    "#     theme_bw() + theme(plot.title = element_text(hjust = 0.5, vjust=-12, size = 12)) +\n",
    "#     ggtitle(str_interp(\"${genre}: Human vs. GPT-4 \\nNLL logzs, FFT norm, est ${est_name} \\n Circular\")) +\n",
    "#     labs(x = bquote(omega[k]), y = bquote(X(omega[k])))\n",
    "# ggsave(str_interp(\"gpt4_human_${genre}_${est_name}_nlllogzs_fftnorm_circle.pdf\"), plot=p, width=5, height=5)"
   ]
  },
  {
   "cell_type": "code",
   "execution_count": 10,
   "metadata": {},
   "outputs": [],
   "source": [
    "# For each nll sequence, use circular to compute n spectra, then calculte its mean\n",
    "\n",
    "def get_circular_mean(nlls):\n",
    "    fft_processor = FFTProcessor(method='fft', preprocess='logzs', value='norm', require_sid=False)\n",
    "    freqs, powers = [], []\n",
    "    for nll in nlls:\n",
    "        nll_circle = circular(nll)\n",
    "        data = fft_processor._preprocess(nll_circle)\n",
    "        freq, power, _ = fft_processor._fft_batch(data, verbose=False)\n",
    "        power_mean = np.mean(power, axis=0)\n",
    "        freqs.append(freq[0])\n",
    "        powers.append(power_mean)\n",
    "    df = pd.DataFrame.from_dict({'freq': np.concatenate(freqs),\n",
    "                                'power': np.concatenate(powers)})\n",
    "    return df\n",
    "\n",
    "# FFT norm\n",
    "fft_processor.value = 'norm'\n",
    "df_norm_orig = get_circular_mean(nll_orig)\n",
    "df_norm_orig['type'] = 'Human'\n",
    "df_norm_samp = get_circular_mean(nll_samp)\n",
    "df_norm_samp['type'] = 'Sampled'\n",
    "df_circlemean_norm = pd.concat([df_norm_orig, df_norm_samp])"
   ]
  },
  {
   "cell_type": "code",
   "execution_count": 11,
   "metadata": {},
   "outputs": [
    {
     "name": "stdout",
     "output_type": "stream",
     "text": [
      "`geom_smooth()` using formula = 'y ~ s(x, bs = \"cs\")'\n"
     ]
    },
    {
     "name": "stderr",
     "output_type": "stream",
     "text": [
      "/Users/xy/.pyenv/versions/miniconda3-latest/lib/python3.11/site-packages/rpy2/robjects/pandas2ri.py:56: UserWarning: DataFrame contains duplicated elements in the index, which will lead to loss of the row names in the resulting data.frame\n",
      "  warnings.warn('DataFrame contains duplicated elements in the index, '\n"
     ]
    },
    {
     "name": "stdout",
     "output_type": "stream",
     "text": [
      "`geom_smooth()` using formula = 'y ~ s(x, bs = \"cs\")'\n",
      "`geom_smooth()` using formula = 'y ~ s(x, bs = \"cs\")'\n"
     ]
    }
   ],
   "source": [
    "%%R -i df_circlemean_norm -i df_circlemean_real -i df_circlemean_imag\n",
    "require(ggplot2)\n",
    "\n",
    "genre <- \"pubmed\"\n",
    "# est_name <- \"gpt2xl\"\n",
    "est_name <- \"mistral\"\n",
    "\n",
    "p <- ggplot(df_circlemean_norm, aes(x=freq, y=power, color=type)) + geom_smooth(method='gam') + \n",
    "    theme_bw() + theme(plot.title = element_text(hjust = 0.5, vjust=-12, size = 12)) +\n",
    "    ggtitle(str_interp(\"PubMed: Human vs. GPT-4 \\nNLL logzs, FFT norm, est ${est_name} \\nCircular Mean\")) +\n",
    "    labs(x = bquote(omega[k]), y = bquote(X(omega[k])))\n",
    "ggsave(str_interp(\"gpt4_human_${genre}_${est_name}_nlllogzs_fftnorm_circlemean.pdf\"), plot=p, width=5, height=5)"
   ]
  },
  {
   "cell_type": "code",
   "execution_count": 12,
   "metadata": {},
   "outputs": [],
   "source": [
    "# Save circlemean data\n",
    "\n",
    "genre = \"pubmed\"\n",
    "# est_name = \"gpt2xl\"\n",
    "est_name = \"mistral\"\n",
    "\n",
    "df_norm_orig[['freq', 'power']].to_csv(f'../data/gpt-4/{genre}_gpt-4.original.{est_name}.nlllogzs.fftnorm.circlemean.txt', index=False)\n",
    "df_norm_samp[['freq', 'power']].to_csv(f'../data/gpt-4/{genre}_gpt-4.sampled.{est_name}.nlllogzs.fftnorm.circlemean.txt', index=False)"
   ]
  }
 ],
 "metadata": {
  "kernelspec": {
   "display_name": "base",
   "language": "python",
   "name": "python3"
  },
  "language_info": {
   "codemirror_mode": {
    "name": "ipython",
    "version": 3
   },
   "file_extension": ".py",
   "mimetype": "text/x-python",
   "name": "python",
   "nbconvert_exporter": "python",
   "pygments_lexer": "ipython3",
   "version": "3.11.5"
  }
 },
 "nbformat": 4,
 "nbformat_minor": 2
}
