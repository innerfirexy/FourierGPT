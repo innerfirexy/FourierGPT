{
 "cells": [
  {
   "cell_type": "code",
   "execution_count": 12,
   "metadata": {},
   "outputs": [],
   "source": [
    "import sys\n",
    "sys.path.append('..')\n",
    "from run_fft import FFTProcessor\n",
    "import numpy as np\n",
    "import pandas as pd\n",
    "import os"
   ]
  },
  {
   "cell_type": "code",
   "execution_count": 2,
   "metadata": {},
   "outputs": [],
   "source": [
    "class SpectrumData():\n",
    "    def __init__(self, filename):\n",
    "        self.filename = filename\n",
    "        self.spectrum_df = self.read_df()\n",
    "    \n",
    "    def read_df(self):\n",
    "        df = pd.read_csv(self.filename)\n",
    "        return df\n",
    "    \n",
    "    def get_dict(self):\n",
    "        result = {}\n",
    "        unique_sids = self.spectrum_df['sid'].unique()\n",
    "        for sid in unique_sids:\n",
    "            sid_df = self.spectrum_df[self.spectrum_df['sid'] == sid]\n",
    "            result[sid] = {\n",
    "                'freq': sid_df['freq'].values,\n",
    "                'power': sid_df['power'].values\n",
    "            }\n",
    "        return result"
   ]
  },
  {
   "cell_type": "code",
   "execution_count": 9,
   "metadata": {},
   "outputs": [],
   "source": [
    "def classify_pair(x_orig: dict, x_samp: dict, k_freq: int = 10):\n",
    "    \"\"\"\n",
    "    0 for orig (human), 1 for samp (model)\n",
    "    \"\"\"\n",
    "    assert x_orig.keys() == x_samp.keys()\n",
    "    correct = 0\n",
    "    for sid in x_orig.keys():\n",
    "        pow_orig = x_orig[sid]['power']\n",
    "        pow_samp = x_samp[sid]['power']\n",
    "        # Hypothesis: pow_samp > pow_orig for k_freq freqs\n",
    "        if np.sum(pow_samp[:k_freq]) > np.sum(pow_orig[:k_freq]):\n",
    "            correct += 1\n",
    "    return correct / len(x_orig)"
   ]
  },
  {
   "cell_type": "code",
   "execution_count": 24,
   "metadata": {},
   "outputs": [
    {
     "name": "stdout",
     "output_type": "stream",
     "text": [
      "0.8466666666666667\n"
     ]
    }
   ],
   "source": [
    "genre = 'pubmed'\n",
    "est_name = 'mistral'\n",
    "\n",
    "spec_orig = SpectrumData(f'../data/gpt-4/pubmed_gpt-4.original.{est_name}.nllzs.fftnorm.txt')\n",
    "x_orig = spec_orig.get_dict()\n",
    "# print(x_orig[0])\n",
    "\n",
    "spec_samp = SpectrumData(f'../data/gpt-4/pubmed_gpt-4.sampled.{est_name}.nllzs.fftnorm.txt')\n",
    "x_samp = spec_samp.get_dict()\n",
    "\n",
    "acc = classify_pair(x_orig, x_samp, k_freq=6)\n",
    "print(acc)\n",
    "\n",
    "# pubmed, mistral, k=10, 0.867\n",
    "# pubmed, mistral, k=3, 0.90\n",
    "# pubmed, mistral, k=5, 0.887"
   ]
  },
  {
   "cell_type": "code",
   "execution_count": 33,
   "metadata": {},
   "outputs": [
    {
     "name": "stdout",
     "output_type": "stream",
     "text": [
      "pubmed, mistral, 86.7\n",
      "pubmed, gpt2xl, 75.3\n",
      "writing, mistral, 69.3\n",
      "xsum, mistral, 62.7\n"
     ]
    }
   ],
   "source": [
    "# Eval loop\n",
    "for genre in ['pubmed', 'writing', 'xsum']:\n",
    "    for est_name in ['mistral', 'llama', 'gpt2xl', 'gpt2lg', 'gpt2md', 'gpt2']:\n",
    "        orig_filename = f'../data/gpt-4/{genre}_gpt-4.original.{est_name}.nllzs.fftnorm.txt'\n",
    "        samp_filename = f'../data/gpt-4/{genre}_gpt-4.sampled.{est_name}.nllzs.fftnorm.txt'\n",
    "        if not os.path.exists(orig_filename) or not os.path.exists(samp_filename):\n",
    "            continue\n",
    "        spec_orig = SpectrumData(orig_filename)\n",
    "        x_orig = spec_orig.get_dict()\n",
    "        spec_samp = SpectrumData(samp_filename)\n",
    "        x_samp = spec_samp.get_dict()\n",
    "        acc = classify_pair(x_orig, x_samp, k_freq=10)\n",
    "        print(f'{genre}, {est_name}, {acc * 100:.1f}')"
   ]
  }
 ],
 "metadata": {
  "kernelspec": {
   "display_name": "base",
   "language": "python",
   "name": "python3"
  },
  "language_info": {
   "codemirror_mode": {
    "name": "ipython",
    "version": 3
   },
   "file_extension": ".py",
   "mimetype": "text/x-python",
   "name": "python",
   "nbconvert_exporter": "python",
   "pygments_lexer": "ipython3",
   "version": "3.11.5"
  }
 },
 "nbformat": 4,
 "nbformat_minor": 2
}
