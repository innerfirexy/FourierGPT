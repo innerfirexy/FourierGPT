{
 "cells": [
  {
   "cell_type": "code",
   "execution_count": 15,
   "metadata": {},
   "outputs": [],
   "source": [
    "import re\n",
    "import random"
   ]
  },
  {
   "cell_type": "code",
   "execution_count": 10,
   "metadata": {},
   "outputs": [
    {
     "name": "stdout",
     "output_type": "stream",
     "text": [
      "150\n",
      "Question: Is an advance care planning model feasible in community palliative care? Answer: An advance care planning model is feasible for community palliative care services. Quality audit processes are an essential component of the Model with documentation of advance care planning discussion established as an important outcome measure.\n",
      "150\n",
      "Question: Is an advance care planning model feasible in community palliative care? Answer: Yes, an advance care planning model is feasible in community palliative care. It facilitates proactive discussions about care preferences, medical decisions, and end-of-life wishes, enabling healthcare professionals to provide patient-centered care. Moreover, it enhances the\n"
     ]
    }
   ],
   "source": [
    "human_data = []\n",
    "with open('../data/gpt-4/pubmed_gpt-4.original.txt', 'r') as f:\n",
    "    for line in f:\n",
    "        human_data.append(line.strip())\n",
    "print(len(human_data))\n",
    "print(human_data[0])\n",
    "\n",
    "model_data = []\n",
    "with open('../data/gpt-4/pubmed_gpt-4.sampled.txt', 'r') as f:\n",
    "    for line in f:\n",
    "        model_data.append(line.strip())\n",
    "print(len(model_data))\n",
    "print(model_data[0])"
   ]
  },
  {
   "cell_type": "code",
   "execution_count": 13,
   "metadata": {},
   "outputs": [
    {
     "name": "stdout",
     "output_type": "stream",
     "text": [
      "150\n",
      "Question: Is an advance care planning model feasible in community palliative care?\n",
      "150\n",
      "0\n",
      "An advance care planning model is feasible for community palliative care services. Quality audit processes are an essential component of the Model with documentation of advance care planning discussion established as an important outcome measure.\n",
      "Yes, an advance care planning model is feasible in community palliative care. It facilitates proactive discussions about care preferences, medical decisions, and end-of-life wishes, enabling healthcare professionals to provide patient-centered care. Moreover, it enhances the\n"
     ]
    }
   ],
   "source": [
    "# Extract questions and answers\n",
    "human_questions = []\n",
    "human_answers = []\n",
    "for d in human_data:\n",
    "    parts = re.split(r'Answer:', d)\n",
    "    assert len(parts) == 2\n",
    "    q = parts[0].strip()\n",
    "    a = parts[1].strip()\n",
    "    human_questions.append(q)\n",
    "    human_answers.append(a)\n",
    "\n",
    "print(len(human_questions))\n",
    "print(human_questions[0])\n",
    "\n",
    "# check if the questions are the same\n",
    "model_questions = []\n",
    "model_answers = []\n",
    "for d in model_data:\n",
    "    parts = re.split(r'Answer:', d)\n",
    "    assert len(parts) == 2\n",
    "    q = parts[0].strip()\n",
    "    a = parts[1].strip()\n",
    "    model_questions.append(q)\n",
    "    model_answers.append(a)\n",
    "\n",
    "print(len(model_questions))\n",
    "different_questions = []\n",
    "for i in range(len(human_questions)):\n",
    "    try:\n",
    "        assert human_questions[i] == model_questions[i]\n",
    "    except AssertionError:\n",
    "        different_questions.append((i, human_questions[i], model_questions[i]))\n",
    "        continue\n",
    "\n",
    "print(len(different_questions))\n",
    "# print(different_questions)\n",
    "\n",
    "# Check answers\n",
    "print(human_answers[0])\n",
    "print(model_answers[0])"
   ]
  },
  {
   "cell_type": "code",
   "execution_count": 16,
   "metadata": {},
   "outputs": [],
   "source": [
    "# Shuffle questions and attach to random answers\n",
    "random.seed(42)\n",
    "questions_shuffled = human_questions.copy()\n",
    "random.shuffle(questions_shuffled)\n",
    "\n",
    "human_qa_new = [questions_shuffled[i] + ' Answer: ' + human_answers[i] for i in range(len(human_answers))]\n",
    "model_qa_new = [questions_shuffled[i] + ' Answer: ' + model_answers[i] for i in range(len(model_answers))]\n",
    "\n",
    "# Write to file\n",
    "with open('../data/gpt-4/pubmed_gpt-4.original.questionshuffled.txt', 'w') as f:\n",
    "    for d in human_qa_new:\n",
    "        f.write(d + '\\n')\n",
    "with open('../data/gpt-4/pubmed_gpt-4.sampled.questionshuffled.txt', 'w') as f:\n",
    "    for d in model_qa_new:\n",
    "        f.write(d + '\\n')"
   ]
  }
 ],
 "metadata": {
  "kernelspec": {
   "display_name": "base",
   "language": "python",
   "name": "python3"
  },
  "language_info": {
   "codemirror_mode": {
    "name": "ipython",
    "version": 3
   },
   "file_extension": ".py",
   "mimetype": "text/x-python",
   "name": "python",
   "nbconvert_exporter": "python",
   "pygments_lexer": "ipython3",
   "version": "3.11.5"
  }
 },
 "nbformat": 4,
 "nbformat_minor": 2
}
