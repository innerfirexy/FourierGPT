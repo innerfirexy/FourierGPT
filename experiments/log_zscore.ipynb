{
 "cells": [
  {
   "cell_type": "code",
   "execution_count": 1,
   "metadata": {},
   "outputs": [],
   "source": [
    "import sys\n",
    "sys.path.append('..')\n",
    "from run_fft import FFTProcessor\n",
    "import numpy as np\n",
    "import pandas as pd"
   ]
  },
  {
   "cell_type": "code",
   "execution_count": 2,
   "metadata": {},
   "outputs": [],
   "source": [
    "# Enable rpy2\n",
    "%load_ext rpy2.ipython"
   ]
  },
  {
   "cell_type": "code",
   "execution_count": 3,
   "metadata": {},
   "outputs": [],
   "source": [
    "fft_processor = FFTProcessor(method='fft', \n",
    "                             preprocess='logzs', \n",
    "                             value='norm', \n",
    "                             require_sid=False)"
   ]
  },
  {
   "cell_type": "markdown",
   "metadata": {},
   "source": [
    "Read NLL data, plot density; show how `log` and `z-score` affect the distribution."
   ]
  },
  {
   "cell_type": "code",
   "execution_count": 11,
   "metadata": {},
   "outputs": [
    {
     "name": "stdout",
     "output_type": "stream",
     "text": [
      "150 150\n",
      "<class 'list'> <class 'list'>\n",
      "     value  sid Source\n",
      "0   5.1750    0  Human\n",
      "1   0.0119    0  Human\n",
      "2   3.3275    0  Human\n",
      "3  10.8108    0  Human\n",
      "4   7.6979    0  Human\n",
      "      value  sid Source\n",
      "0  1.820509    0  Human\n",
      "1  0.011830    0  Human\n",
      "2  1.464990    0  Human\n",
      "3  2.469014    0  Human\n",
      "4  2.163082    0  Human\n",
      "      value  sid Source\n",
      "0  1.064695    0  Human\n",
      "1 -1.214734    0  Human\n",
      "2  0.616644    0  Human\n",
      "3  1.881989    0  Human\n",
      "4  1.496430    0  Human\n"
     ]
    }
   ],
   "source": [
    "nll_pubmed_orig = fft_processor._read_data(data_file='../data/gpt-4/pubmed_gpt-4.original.mistral.nll.txt')\n",
    "nll_pubmed_samp = fft_processor._read_data(data_file='../data/gpt-4/pubmed_gpt-4.sampled.mistral.nll.txt')\n",
    "\n",
    "print(len(nll_pubmed_orig), len(nll_pubmed_samp))\n",
    "print(type(nll_pubmed_orig), type(nll_pubmed_samp))\n",
    "\n",
    "# Raw NLL\n",
    "df_nll_orig = fft_processor._create_input_df(nll_pubmed_orig)\n",
    "df_nll_samp = fft_processor._create_input_df(nll_pubmed_samp)\n",
    "df_nll_orig['Source'] = 'Human'\n",
    "df_nll_samp['Source'] = 'GPT-4'\n",
    "df_nll = pd.concat([df_nll_orig, df_nll_samp])\n",
    "\n",
    "# Log NLL\n",
    "fft_processor.preprocess = 'log'\n",
    "data = fft_processor._preprocess(nll_pubmed_orig)\n",
    "df_nlllog_orig = fft_processor._create_input_df(data)\n",
    "data = fft_processor._preprocess(nll_pubmed_samp)\n",
    "df_nlllog_samp = fft_processor._create_input_df(data)\n",
    "df_nlllog_orig['Source'] = 'Human'\n",
    "df_nlllog_samp['Source'] = 'GPT-4'\n",
    "df_nlllog = pd.concat([df_nlllog_orig, df_nlllog_samp])\n",
    "\n",
    "# Log + Z-Score NLL\n",
    "fft_processor.preprocess = 'logzs'\n",
    "data = fft_processor._preprocess(nll_pubmed_orig)\n",
    "df_nlllogzs_orig = fft_processor._create_input_df(data)\n",
    "data = fft_processor._preprocess(nll_pubmed_samp)\n",
    "df_nlllogzs_samp = fft_processor._create_input_df(data)\n",
    "df_nlllogzs_orig['Source'] = 'Human'\n",
    "df_nlllogzs_samp['Source'] = 'GPT-4'\n",
    "df_nlllogzs = pd.concat([df_nlllogzs_orig, df_nlllogzs_samp])\n",
    "\n",
    "# Print some data\n",
    "print(df_nll.head())\n",
    "print(df_nlllog.head())\n",
    "print(df_nlllogzs.head())"
   ]
  },
  {
   "cell_type": "code",
   "execution_count": 14,
   "metadata": {},
   "outputs": [],
   "source": [
    "%%R -i df_nll -i df_nlllog -i df_nlllogzs\n",
    "require(\"ggplot2\")\n",
    "require(\"stringr\")\n",
    "\n",
    "genre <- \"pubmed\"\n",
    "est_name <- \"mistral\"\n",
    "\n",
    "# NLL\n",
    "value <- \"nll\"\n",
    "p <- ggplot(df_nll, aes(x=value, fill=Source, color=Source)) + geom_density(alpha=0.5) +\n",
    "    theme_bw() + theme(plot.title = element_text(hjust = 0.5, vjust=-8, size = 12), legend.position=c(0.8,0.8)) +\n",
    "    labs(x = \"NLL\", y = \"Density\")\n",
    "ggsave(str_interp(\"${genre}_${est_name}_${value}.pdf\"), plot=p, width=5, height=5)\n",
    "\n",
    "# Log-transformed NLL\n",
    "value <- \"nlllog\"\n",
    "p <- ggplot(df_nlllog, aes(x=value, fill=Source, color=Source)) + geom_density(alpha=0.5) +\n",
    "    theme_bw() + theme(plot.title = element_text(hjust = 0.5, vjust=-8, size = 12), legend.position=c(0.8,0.8)) +\n",
    "    labs(x = \"log(NLL)\", y = \"Density\")\n",
    "ggsave(str_interp(\"${genre}_${est_name}_${value}.pdf\"), plot=p, width=5, height=5)\n",
    "\n",
    "# Log-transformed and Z-Scored NLL\n",
    "value <- \"nlllogzs\"\n",
    "p <- ggplot(df_nlllogzs, aes(x=value, fill=Source, color=Source)) + geom_density(alpha=0.5) +\n",
    "    theme_bw() + theme(plot.title = element_text(hjust = 0.5, vjust=-8, size = 12), legend.position=c(0.8,0.8)) +\n",
    "    labs(x = \"z-score(log(NLL))\", y = \"Density\")\n",
    "ggsave(str_interp(\"${genre}_${est_name}_${value}.pdf\"), plot=p, width=5, height=5)"
   ]
  }
 ],
 "metadata": {
  "kernelspec": {
   "display_name": "base",
   "language": "python",
   "name": "python3"
  },
  "language_info": {
   "codemirror_mode": {
    "name": "ipython",
    "version": 3
   },
   "file_extension": ".py",
   "mimetype": "text/x-python",
   "name": "python",
   "nbconvert_exporter": "python",
   "pygments_lexer": "ipython3",
   "version": "3.11.5"
  }
 },
 "nbformat": 4,
 "nbformat_minor": 2
}
